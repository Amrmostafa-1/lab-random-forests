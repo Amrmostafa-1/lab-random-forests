{
 "cells": [
  {
   "cell_type": "code",
   "execution_count": 1,
   "id": "e0e05fe1",
   "metadata": {},
   "outputs": [],
   "source": [
    "import pandas as pd\n",
    "import numpy as np"
   ]
  },
  {
   "cell_type": "code",
   "execution_count": 2,
   "id": "24dbdc17",
   "metadata": {},
   "outputs": [],
   "source": [
    "numerical = pd.read_csv('numerical.csv')\n",
    "categorical = pd.read_csv('categorical.csv')\n",
    "targets = pd.read_csv('target.csv')\n",
    "data = pd.concat([numerical, categorical, targets], axis = 1)"
   ]
  },
  {
   "cell_type": "code",
   "execution_count": 3,
   "id": "eb73571b",
   "metadata": {},
   "outputs": [
    {
     "data": {
      "text/html": [
       "<div>\n",
       "<style scoped>\n",
       "    .dataframe tbody tr th:only-of-type {\n",
       "        vertical-align: middle;\n",
       "    }\n",
       "\n",
       "    .dataframe tbody tr th {\n",
       "        vertical-align: top;\n",
       "    }\n",
       "\n",
       "    .dataframe thead th {\n",
       "        text-align: right;\n",
       "    }\n",
       "</style>\n",
       "<table border=\"1\" class=\"dataframe\">\n",
       "  <thead>\n",
       "    <tr style=\"text-align: right;\">\n",
       "      <th></th>\n",
       "      <th>TCODE</th>\n",
       "      <th>AGE</th>\n",
       "      <th>INCOME</th>\n",
       "      <th>WEALTH1</th>\n",
       "      <th>HIT</th>\n",
       "      <th>MALEMILI</th>\n",
       "      <th>MALEVET</th>\n",
       "      <th>VIETVETS</th>\n",
       "      <th>WWIIVETS</th>\n",
       "      <th>LOCALGOV</th>\n",
       "      <th>...</th>\n",
       "      <th>MINRDATE_YR</th>\n",
       "      <th>MINRDATE_MM</th>\n",
       "      <th>MAXRDATE_YR</th>\n",
       "      <th>MAXRDATE_MM</th>\n",
       "      <th>LASTDATE_YR</th>\n",
       "      <th>LASTDATE_MM</th>\n",
       "      <th>FIRSTDATE_YR</th>\n",
       "      <th>FIRSTDATE_MM</th>\n",
       "      <th>TARGET_B</th>\n",
       "      <th>TARGET_D</th>\n",
       "    </tr>\n",
       "  </thead>\n",
       "  <tbody>\n",
       "    <tr>\n",
       "      <th>0</th>\n",
       "      <td>0</td>\n",
       "      <td>60.000000</td>\n",
       "      <td>5</td>\n",
       "      <td>9</td>\n",
       "      <td>0</td>\n",
       "      <td>0</td>\n",
       "      <td>39</td>\n",
       "      <td>34</td>\n",
       "      <td>18</td>\n",
       "      <td>10</td>\n",
       "      <td>...</td>\n",
       "      <td>92</td>\n",
       "      <td>8</td>\n",
       "      <td>94</td>\n",
       "      <td>2</td>\n",
       "      <td>95</td>\n",
       "      <td>12</td>\n",
       "      <td>89</td>\n",
       "      <td>11</td>\n",
       "      <td>0</td>\n",
       "      <td>0.0</td>\n",
       "    </tr>\n",
       "    <tr>\n",
       "      <th>1</th>\n",
       "      <td>1</td>\n",
       "      <td>46.000000</td>\n",
       "      <td>6</td>\n",
       "      <td>9</td>\n",
       "      <td>16</td>\n",
       "      <td>0</td>\n",
       "      <td>15</td>\n",
       "      <td>55</td>\n",
       "      <td>11</td>\n",
       "      <td>6</td>\n",
       "      <td>...</td>\n",
       "      <td>93</td>\n",
       "      <td>10</td>\n",
       "      <td>95</td>\n",
       "      <td>12</td>\n",
       "      <td>95</td>\n",
       "      <td>12</td>\n",
       "      <td>93</td>\n",
       "      <td>10</td>\n",
       "      <td>0</td>\n",
       "      <td>0.0</td>\n",
       "    </tr>\n",
       "    <tr>\n",
       "      <th>2</th>\n",
       "      <td>1</td>\n",
       "      <td>61.611649</td>\n",
       "      <td>3</td>\n",
       "      <td>1</td>\n",
       "      <td>2</td>\n",
       "      <td>0</td>\n",
       "      <td>20</td>\n",
       "      <td>29</td>\n",
       "      <td>33</td>\n",
       "      <td>6</td>\n",
       "      <td>...</td>\n",
       "      <td>91</td>\n",
       "      <td>11</td>\n",
       "      <td>92</td>\n",
       "      <td>7</td>\n",
       "      <td>95</td>\n",
       "      <td>12</td>\n",
       "      <td>90</td>\n",
       "      <td>1</td>\n",
       "      <td>0</td>\n",
       "      <td>0.0</td>\n",
       "    </tr>\n",
       "    <tr>\n",
       "      <th>3</th>\n",
       "      <td>0</td>\n",
       "      <td>70.000000</td>\n",
       "      <td>1</td>\n",
       "      <td>4</td>\n",
       "      <td>2</td>\n",
       "      <td>0</td>\n",
       "      <td>23</td>\n",
       "      <td>14</td>\n",
       "      <td>31</td>\n",
       "      <td>3</td>\n",
       "      <td>...</td>\n",
       "      <td>87</td>\n",
       "      <td>11</td>\n",
       "      <td>94</td>\n",
       "      <td>11</td>\n",
       "      <td>95</td>\n",
       "      <td>12</td>\n",
       "      <td>87</td>\n",
       "      <td>2</td>\n",
       "      <td>0</td>\n",
       "      <td>0.0</td>\n",
       "    </tr>\n",
       "    <tr>\n",
       "      <th>4</th>\n",
       "      <td>0</td>\n",
       "      <td>78.000000</td>\n",
       "      <td>3</td>\n",
       "      <td>2</td>\n",
       "      <td>60</td>\n",
       "      <td>1</td>\n",
       "      <td>28</td>\n",
       "      <td>9</td>\n",
       "      <td>53</td>\n",
       "      <td>26</td>\n",
       "      <td>...</td>\n",
       "      <td>93</td>\n",
       "      <td>10</td>\n",
       "      <td>96</td>\n",
       "      <td>1</td>\n",
       "      <td>96</td>\n",
       "      <td>1</td>\n",
       "      <td>79</td>\n",
       "      <td>3</td>\n",
       "      <td>0</td>\n",
       "      <td>0.0</td>\n",
       "    </tr>\n",
       "  </tbody>\n",
       "</table>\n",
       "<p>5 rows × 339 columns</p>\n",
       "</div>"
      ],
      "text/plain": [
       "   TCODE        AGE  INCOME  WEALTH1  HIT  MALEMILI  MALEVET  VIETVETS  \\\n",
       "0      0  60.000000       5        9    0         0       39        34   \n",
       "1      1  46.000000       6        9   16         0       15        55   \n",
       "2      1  61.611649       3        1    2         0       20        29   \n",
       "3      0  70.000000       1        4    2         0       23        14   \n",
       "4      0  78.000000       3        2   60         1       28         9   \n",
       "\n",
       "   WWIIVETS  LOCALGOV  ...  MINRDATE_YR  MINRDATE_MM  MAXRDATE_YR  \\\n",
       "0        18        10  ...           92            8           94   \n",
       "1        11         6  ...           93           10           95   \n",
       "2        33         6  ...           91           11           92   \n",
       "3        31         3  ...           87           11           94   \n",
       "4        53        26  ...           93           10           96   \n",
       "\n",
       "   MAXRDATE_MM  LASTDATE_YR  LASTDATE_MM  FIRSTDATE_YR  FIRSTDATE_MM  \\\n",
       "0            2           95           12            89            11   \n",
       "1           12           95           12            93            10   \n",
       "2            7           95           12            90             1   \n",
       "3           11           95           12            87             2   \n",
       "4            1           96            1            79             3   \n",
       "\n",
       "   TARGET_B  TARGET_D  \n",
       "0         0       0.0  \n",
       "1         0       0.0  \n",
       "2         0       0.0  \n",
       "3         0       0.0  \n",
       "4         0       0.0  \n",
       "\n",
       "[5 rows x 339 columns]"
      ]
     },
     "execution_count": 3,
     "metadata": {},
     "output_type": "execute_result"
    }
   ],
   "source": [
    "data.head()"
   ]
  },
  {
   "cell_type": "code",
   "execution_count": 4,
   "id": "46f8a25b",
   "metadata": {},
   "outputs": [
    {
     "data": {
      "text/plain": [
       "STATE           object\n",
       "CLUSTER          int64\n",
       "HOMEOWNR        object\n",
       "GENDER          object\n",
       "DATASRCE         int64\n",
       "RFA_2R          object\n",
       "RFA_2A          object\n",
       "GEOCODE2        object\n",
       "DOMAIN_A        object\n",
       "DOMAIN_B         int64\n",
       "ODATEW_YR        int64\n",
       "ODATEW_MM        int64\n",
       "DOB_YR           int64\n",
       "DOB_MM           int64\n",
       "MINRDATE_YR      int64\n",
       "MINRDATE_MM      int64\n",
       "MAXRDATE_YR      int64\n",
       "MAXRDATE_MM      int64\n",
       "LASTDATE_YR      int64\n",
       "LASTDATE_MM      int64\n",
       "FIRSTDATE_YR     int64\n",
       "FIRSTDATE_MM     int64\n",
       "dtype: object"
      ]
     },
     "execution_count": 4,
     "metadata": {},
     "output_type": "execute_result"
    }
   ],
   "source": [
    "categorical.dtypes"
   ]
  },
  {
   "cell_type": "code",
   "execution_count": 5,
   "id": "8bc79b58",
   "metadata": {},
   "outputs": [],
   "source": [
    "y = data['TARGET_B']\n",
    "X = data.drop(columns=['TARGET_B','TARGET_D'])"
   ]
  },
  {
   "cell_type": "code",
   "execution_count": 6,
   "id": "d180b242",
   "metadata": {},
   "outputs": [],
   "source": [
    "from sklearn.model_selection import train_test_split\n",
    "X_train, X_test, y_train, y_test = train_test_split(X, y, test_size=0.2)"
   ]
  },
  {
   "cell_type": "markdown",
   "id": "2fd35372",
   "metadata": {},
   "source": [
    "### Split into numerical and categorical"
   ]
  },
  {
   "cell_type": "markdown",
   "id": "ba76cd4e",
   "metadata": {},
   "source": [
    "#### Numerical"
   ]
  },
  {
   "cell_type": "code",
   "execution_count": 7,
   "id": "586832b3",
   "metadata": {},
   "outputs": [],
   "source": [
    "X_train_num = X_train.select_dtypes(np.number)\n",
    "X_test_num = X_test.select_dtypes(np.number)\n",
    "\n",
    "# Reset index to concat with categorical after encoding\n",
    "\n",
    "X_train_num = X_train_num.reset_index(drop=True)\n",
    "X_test_num = X_test_num.reset_index(drop=True)"
   ]
  },
  {
   "cell_type": "markdown",
   "id": "caa2348e",
   "metadata": {},
   "source": [
    "Not going to normalize the numericals as I want to see how the random forests handles the data."
   ]
  },
  {
   "cell_type": "markdown",
   "id": "6a146aa0",
   "metadata": {},
   "source": [
    "#### Categorical"
   ]
  },
  {
   "cell_type": "code",
   "execution_count": 8,
   "id": "42b3ae91",
   "metadata": {},
   "outputs": [],
   "source": [
    "X_train_cat = X_train.select_dtypes(object)\n",
    "X_test_cat = X_test.select_dtypes(object)"
   ]
  },
  {
   "cell_type": "markdown",
   "id": "3bc2ecd9",
   "metadata": {},
   "source": [
    "#### OneHot Encode the categorical columns"
   ]
  },
  {
   "cell_type": "code",
   "execution_count": 9,
   "id": "59f76ca3",
   "metadata": {},
   "outputs": [],
   "source": [
    "from sklearn.preprocessing import OneHotEncoder\n",
    "encoder = OneHotEncoder(drop='first').fit(X_train_cat)\n",
    "X_train_encode = encoder.transform(X_train_cat).toarray()\n",
    "X_train_encode = pd.DataFrame(X_train_encode, columns=encoder.get_feature_names_out())\n",
    "# we encode the test also but don't fit the encoder again\n",
    "X_test_encode = encoder.transform(X_test_cat).toarray()\n",
    "X_test_encode = pd.DataFrame(X_test_encode, columns=encoder.get_feature_names_out())"
   ]
  },
  {
   "cell_type": "markdown",
   "id": "2bc5c42b",
   "metadata": {},
   "source": [
    "#### Concat the numerical and encoded categoricals"
   ]
  },
  {
   "cell_type": "code",
   "execution_count": 10,
   "id": "a5d50d0c",
   "metadata": {},
   "outputs": [],
   "source": [
    "X_train_treated = pd.concat([X_train_num, X_train_encode], axis = 1)\n",
    "X_test_treated  = pd.concat([X_test_num,  X_test_encode],  axis = 1)"
   ]
  },
  {
   "cell_type": "code",
   "execution_count": 11,
   "id": "fe1086bd",
   "metadata": {},
   "outputs": [
    {
     "name": "stdout",
     "output_type": "stream",
     "text": [
      "0\n",
      "0\n"
     ]
    }
   ],
   "source": [
    "print(X_train_treated.isna().sum().sum())\n",
    "print(X_test_treated.isna().sum().sum())"
   ]
  },
  {
   "cell_type": "markdown",
   "id": "9b3540e0",
   "metadata": {},
   "source": [
    "#### Oversampling the Train data"
   ]
  },
  {
   "cell_type": "code",
   "execution_count": 12,
   "id": "9051eaab",
   "metadata": {},
   "outputs": [],
   "source": [
    "from imblearn.over_sampling import RandomOverSampler\n",
    "\n",
    "ros = RandomOverSampler()\n",
    "X_resampled_oversample, y_resampled_oversample = ros.fit_resample(X_train_treated, y_train)"
   ]
  },
  {
   "cell_type": "code",
   "execution_count": 13,
   "id": "d9cdcbe3",
   "metadata": {},
   "outputs": [],
   "source": [
    "X_resampled = pd.DataFrame(X_resampled_oversample, columns=X_resampled_oversample.columns)"
   ]
  },
  {
   "cell_type": "code",
   "execution_count": 14,
   "id": "5fa2a99c",
   "metadata": {},
   "outputs": [
    {
     "data": {
      "text/html": [
       "<div>\n",
       "<style scoped>\n",
       "    .dataframe tbody tr th:only-of-type {\n",
       "        vertical-align: middle;\n",
       "    }\n",
       "\n",
       "    .dataframe tbody tr th {\n",
       "        vertical-align: top;\n",
       "    }\n",
       "\n",
       "    .dataframe thead th {\n",
       "        text-align: right;\n",
       "    }\n",
       "</style>\n",
       "<table border=\"1\" class=\"dataframe\">\n",
       "  <thead>\n",
       "    <tr style=\"text-align: right;\">\n",
       "      <th></th>\n",
       "      <th>TCODE</th>\n",
       "      <th>AGE</th>\n",
       "      <th>INCOME</th>\n",
       "      <th>WEALTH1</th>\n",
       "      <th>HIT</th>\n",
       "      <th>MALEMILI</th>\n",
       "      <th>MALEVET</th>\n",
       "      <th>VIETVETS</th>\n",
       "      <th>WWIIVETS</th>\n",
       "      <th>LOCALGOV</th>\n",
       "      <th>...</th>\n",
       "      <th>RFA_2A_E</th>\n",
       "      <th>RFA_2A_F</th>\n",
       "      <th>RFA_2A_G</th>\n",
       "      <th>GEOCODE2_B</th>\n",
       "      <th>GEOCODE2_C</th>\n",
       "      <th>GEOCODE2_D</th>\n",
       "      <th>DOMAIN_A_R</th>\n",
       "      <th>DOMAIN_A_S</th>\n",
       "      <th>DOMAIN_A_T</th>\n",
       "      <th>DOMAIN_A_U</th>\n",
       "    </tr>\n",
       "  </thead>\n",
       "  <tbody>\n",
       "    <tr>\n",
       "      <th>0</th>\n",
       "      <td>0</td>\n",
       "      <td>74.0</td>\n",
       "      <td>2</td>\n",
       "      <td>5</td>\n",
       "      <td>36</td>\n",
       "      <td>0</td>\n",
       "      <td>40</td>\n",
       "      <td>48</td>\n",
       "      <td>15</td>\n",
       "      <td>4</td>\n",
       "      <td>...</td>\n",
       "      <td>0.0</td>\n",
       "      <td>1.0</td>\n",
       "      <td>0.0</td>\n",
       "      <td>1.0</td>\n",
       "      <td>0.0</td>\n",
       "      <td>0.0</td>\n",
       "      <td>0.0</td>\n",
       "      <td>1.0</td>\n",
       "      <td>0.0</td>\n",
       "      <td>0.0</td>\n",
       "    </tr>\n",
       "    <tr>\n",
       "      <th>1</th>\n",
       "      <td>0</td>\n",
       "      <td>57.0</td>\n",
       "      <td>5</td>\n",
       "      <td>2</td>\n",
       "      <td>21</td>\n",
       "      <td>0</td>\n",
       "      <td>20</td>\n",
       "      <td>28</td>\n",
       "      <td>9</td>\n",
       "      <td>2</td>\n",
       "      <td>...</td>\n",
       "      <td>0.0</td>\n",
       "      <td>1.0</td>\n",
       "      <td>0.0</td>\n",
       "      <td>0.0</td>\n",
       "      <td>1.0</td>\n",
       "      <td>0.0</td>\n",
       "      <td>1.0</td>\n",
       "      <td>0.0</td>\n",
       "      <td>0.0</td>\n",
       "      <td>0.0</td>\n",
       "    </tr>\n",
       "    <tr>\n",
       "      <th>2</th>\n",
       "      <td>0</td>\n",
       "      <td>46.0</td>\n",
       "      <td>4</td>\n",
       "      <td>9</td>\n",
       "      <td>0</td>\n",
       "      <td>0</td>\n",
       "      <td>31</td>\n",
       "      <td>15</td>\n",
       "      <td>36</td>\n",
       "      <td>7</td>\n",
       "      <td>...</td>\n",
       "      <td>0.0</td>\n",
       "      <td>1.0</td>\n",
       "      <td>0.0</td>\n",
       "      <td>0.0</td>\n",
       "      <td>1.0</td>\n",
       "      <td>0.0</td>\n",
       "      <td>0.0</td>\n",
       "      <td>0.0</td>\n",
       "      <td>1.0</td>\n",
       "      <td>0.0</td>\n",
       "    </tr>\n",
       "    <tr>\n",
       "      <th>3</th>\n",
       "      <td>2</td>\n",
       "      <td>53.0</td>\n",
       "      <td>3</td>\n",
       "      <td>5</td>\n",
       "      <td>1</td>\n",
       "      <td>0</td>\n",
       "      <td>23</td>\n",
       "      <td>34</td>\n",
       "      <td>20</td>\n",
       "      <td>6</td>\n",
       "      <td>...</td>\n",
       "      <td>1.0</td>\n",
       "      <td>0.0</td>\n",
       "      <td>0.0</td>\n",
       "      <td>0.0</td>\n",
       "      <td>1.0</td>\n",
       "      <td>0.0</td>\n",
       "      <td>0.0</td>\n",
       "      <td>0.0</td>\n",
       "      <td>1.0</td>\n",
       "      <td>0.0</td>\n",
       "    </tr>\n",
       "    <tr>\n",
       "      <th>4</th>\n",
       "      <td>0</td>\n",
       "      <td>71.0</td>\n",
       "      <td>5</td>\n",
       "      <td>9</td>\n",
       "      <td>0</td>\n",
       "      <td>0</td>\n",
       "      <td>32</td>\n",
       "      <td>18</td>\n",
       "      <td>46</td>\n",
       "      <td>7</td>\n",
       "      <td>...</td>\n",
       "      <td>0.0</td>\n",
       "      <td>1.0</td>\n",
       "      <td>0.0</td>\n",
       "      <td>0.0</td>\n",
       "      <td>0.0</td>\n",
       "      <td>0.0</td>\n",
       "      <td>0.0</td>\n",
       "      <td>0.0</td>\n",
       "      <td>0.0</td>\n",
       "      <td>0.0</td>\n",
       "    </tr>\n",
       "  </tbody>\n",
       "</table>\n",
       "<p>5 rows × 354 columns</p>\n",
       "</div>"
      ],
      "text/plain": [
       "   TCODE   AGE  INCOME  WEALTH1  HIT  MALEMILI  MALEVET  VIETVETS  WWIIVETS  \\\n",
       "0      0  74.0       2        5   36         0       40        48        15   \n",
       "1      0  57.0       5        2   21         0       20        28         9   \n",
       "2      0  46.0       4        9    0         0       31        15        36   \n",
       "3      2  53.0       3        5    1         0       23        34        20   \n",
       "4      0  71.0       5        9    0         0       32        18        46   \n",
       "\n",
       "   LOCALGOV  ...  RFA_2A_E  RFA_2A_F  RFA_2A_G  GEOCODE2_B  GEOCODE2_C  \\\n",
       "0         4  ...       0.0       1.0       0.0         1.0         0.0   \n",
       "1         2  ...       0.0       1.0       0.0         0.0         1.0   \n",
       "2         7  ...       0.0       1.0       0.0         0.0         1.0   \n",
       "3         6  ...       1.0       0.0       0.0         0.0         1.0   \n",
       "4         7  ...       0.0       1.0       0.0         0.0         0.0   \n",
       "\n",
       "   GEOCODE2_D  DOMAIN_A_R  DOMAIN_A_S  DOMAIN_A_T  DOMAIN_A_U  \n",
       "0         0.0         0.0         1.0         0.0         0.0  \n",
       "1         0.0         1.0         0.0         0.0         0.0  \n",
       "2         0.0         0.0         0.0         1.0         0.0  \n",
       "3         0.0         0.0         0.0         1.0         0.0  \n",
       "4         0.0         0.0         0.0         0.0         0.0  \n",
       "\n",
       "[5 rows x 354 columns]"
      ]
     },
     "execution_count": 14,
     "metadata": {},
     "output_type": "execute_result"
    }
   ],
   "source": [
    "X_resampled.head()\n"
   ]
  },
  {
   "cell_type": "code",
   "execution_count": 15,
   "id": "e23a7c53",
   "metadata": {},
   "outputs": [],
   "source": [
    "# Rename for ease of use\n",
    "\n",
    "X_train = X_resampled\n",
    "X_test = X_test_treated\n",
    "y_train = y_resampled_oversample"
   ]
  },
  {
   "cell_type": "code",
   "execution_count": 16,
   "id": "6eff98b0",
   "metadata": {},
   "outputs": [
    {
     "name": "stdout",
     "output_type": "stream",
     "text": [
      "0.6272525319424898\n",
      "0.6133731593564953\n"
     ]
    }
   ],
   "source": [
    "from sklearn.ensemble import RandomForestClassifier\n",
    "from sklearn.metrics import confusion_matrix\n",
    "\n",
    "clf = RandomForestClassifier(max_depth=5, # max number of questions to ask\n",
    "                             min_samples_split=20, # amount of rows still considered at every question\n",
    "                             min_samples_leaf =20, # ultimate answer based on at least this many rows\n",
    "                             max_samples=0.8, # fraction of X-train to use in each tree\n",
    "                             random_state=42)\n",
    "clf.fit(X_train, y_train)\n",
    "print(clf.score(X_train, y_train))\n",
    "print(clf.score(X_test, y_test))"
   ]
  },
  {
   "cell_type": "markdown",
   "id": "c539f4e8",
   "metadata": {},
   "source": [
    "### Trying KBest to reduce the features"
   ]
  },
  {
   "cell_type": "code",
   "execution_count": 17,
   "id": "f3e44c78",
   "metadata": {},
   "outputs": [
    {
     "name": "stdout",
     "output_type": "stream",
     "text": [
      "CPU times: user 1.02 s, sys: 809 ms, total: 1.83 s\n",
      "Wall time: 2.04 s\n"
     ]
    }
   ],
   "source": [
    "%%time\n",
    "from sklearn.feature_selection import SelectKBest\n",
    "from sklearn.feature_selection import chi2\n",
    "\n",
    "\n",
    "kbest = SelectKBest(chi2, k=10)\n",
    "selector = kbest.fit(X_train, y_train)\n",
    "\n",
    "X_train_new = selector.transform(X_train)\n",
    "X_test_new = selector.transform(X_test)"
   ]
  },
  {
   "cell_type": "code",
   "execution_count": 19,
   "id": "59f3323d",
   "metadata": {
    "scrolled": true
   },
   "outputs": [
    {
     "name": "stdout",
     "output_type": "stream",
     "text": [
      "            score    Column\n",
      "311  3.597322e+06  CONTROLN\n",
      "140  1.175955e+06       IC5\n",
      "0    4.534439e+05     TCODE\n",
      "83   3.540884e+05       HV1\n",
      "84   3.456910e+05       HV2\n",
      "13   2.558862e+05    POP901\n",
      "133  1.555515e+05       MSA\n",
      "14   4.814382e+04    POP902\n",
      "15   3.456445e+04    POP903\n",
      "303  2.781870e+04  RAMNTALL\n"
     ]
    }
   ],
   "source": [
    "df = pd.DataFrame(data = selector.scores_, columns = ['score'])\n",
    "df['Column'] = X_train.columns\n",
    "print(df.sort_values(by = ['score'], ascending = False).head(10))"
   ]
  },
  {
   "cell_type": "code",
   "execution_count": 21,
   "id": "abcd2ee3",
   "metadata": {
    "scrolled": true
   },
   "outputs": [
    {
     "data": {
      "text/plain": [
       "311    CONTROLN\n",
       "140         IC5\n",
       "0         TCODE\n",
       "83          HV1\n",
       "84          HV2\n",
       "13       POP901\n",
       "133         MSA\n",
       "14       POP902\n",
       "15       POP903\n",
       "303    RAMNTALL\n",
       "Name: Column, dtype: object"
      ]
     },
     "execution_count": 21,
     "metadata": {},
     "output_type": "execute_result"
    }
   ],
   "source": [
    "cols = df.sort_values(by = ['score'], ascending = False).head(10)['Column']\n",
    "cols"
   ]
  },
  {
   "cell_type": "code",
   "execution_count": 23,
   "id": "3a0204ef",
   "metadata": {},
   "outputs": [
    {
     "data": {
      "text/html": [
       "<div>\n",
       "<style scoped>\n",
       "    .dataframe tbody tr th:only-of-type {\n",
       "        vertical-align: middle;\n",
       "    }\n",
       "\n",
       "    .dataframe tbody tr th {\n",
       "        vertical-align: top;\n",
       "    }\n",
       "\n",
       "    .dataframe thead th {\n",
       "        text-align: right;\n",
       "    }\n",
       "</style>\n",
       "<table border=\"1\" class=\"dataframe\">\n",
       "  <thead>\n",
       "    <tr style=\"text-align: right;\">\n",
       "      <th>Column</th>\n",
       "      <th>CONTROLN</th>\n",
       "      <th>IC5</th>\n",
       "      <th>TCODE</th>\n",
       "      <th>HV1</th>\n",
       "      <th>HV2</th>\n",
       "      <th>POP901</th>\n",
       "      <th>MSA</th>\n",
       "      <th>POP902</th>\n",
       "      <th>POP903</th>\n",
       "      <th>RAMNTALL</th>\n",
       "    </tr>\n",
       "  </thead>\n",
       "  <tbody>\n",
       "    <tr>\n",
       "      <th>0</th>\n",
       "      <td>0.0</td>\n",
       "      <td>1252.0</td>\n",
       "      <td>345.0</td>\n",
       "      <td>448.0</td>\n",
       "      <td>391.0</td>\n",
       "      <td>411.0</td>\n",
       "      <td>3760.0</td>\n",
       "      <td>10004.0</td>\n",
       "      <td>35.0</td>\n",
       "      <td>102393.0</td>\n",
       "    </tr>\n",
       "    <tr>\n",
       "      <th>1</th>\n",
       "      <td>0.0</td>\n",
       "      <td>865.0</td>\n",
       "      <td>236.0</td>\n",
       "      <td>316.0</td>\n",
       "      <td>316.0</td>\n",
       "      <td>378.0</td>\n",
       "      <td>8640.0</td>\n",
       "      <td>8416.0</td>\n",
       "      <td>36.0</td>\n",
       "      <td>118115.0</td>\n",
       "    </tr>\n",
       "    <tr>\n",
       "      <th>2</th>\n",
       "      <td>0.0</td>\n",
       "      <td>1412.0</td>\n",
       "      <td>399.0</td>\n",
       "      <td>485.0</td>\n",
       "      <td>812.0</td>\n",
       "      <td>878.0</td>\n",
       "      <td>0.0</td>\n",
       "      <td>15690.0</td>\n",
       "      <td>35.0</td>\n",
       "      <td>61111.0</td>\n",
       "    </tr>\n",
       "    <tr>\n",
       "      <th>3</th>\n",
       "      <td>2.0</td>\n",
       "      <td>11319.0</td>\n",
       "      <td>3240.0</td>\n",
       "      <td>4109.0</td>\n",
       "      <td>793.0</td>\n",
       "      <td>987.0</td>\n",
       "      <td>0.0</td>\n",
       "      <td>14133.0</td>\n",
       "      <td>109.0</td>\n",
       "      <td>28966.0</td>\n",
       "    </tr>\n",
       "    <tr>\n",
       "      <th>4</th>\n",
       "      <td>0.0</td>\n",
       "      <td>2961.0</td>\n",
       "      <td>823.0</td>\n",
       "      <td>1423.0</td>\n",
       "      <td>1487.0</td>\n",
       "      <td>1523.0</td>\n",
       "      <td>2160.0</td>\n",
       "      <td>24099.0</td>\n",
       "      <td>270.0</td>\n",
       "      <td>69126.0</td>\n",
       "    </tr>\n",
       "  </tbody>\n",
       "</table>\n",
       "</div>"
      ],
      "text/plain": [
       "Column  CONTROLN      IC5   TCODE     HV1     HV2  POP901     MSA   POP902  \\\n",
       "0            0.0   1252.0   345.0   448.0   391.0   411.0  3760.0  10004.0   \n",
       "1            0.0    865.0   236.0   316.0   316.0   378.0  8640.0   8416.0   \n",
       "2            0.0   1412.0   399.0   485.0   812.0   878.0     0.0  15690.0   \n",
       "3            2.0  11319.0  3240.0  4109.0   793.0   987.0     0.0  14133.0   \n",
       "4            0.0   2961.0   823.0  1423.0  1487.0  1523.0  2160.0  24099.0   \n",
       "\n",
       "Column  POP903  RAMNTALL  \n",
       "0         35.0  102393.0  \n",
       "1         36.0  118115.0  \n",
       "2         35.0   61111.0  \n",
       "3        109.0   28966.0  \n",
       "4        270.0   69126.0  "
      ]
     },
     "execution_count": 23,
     "metadata": {},
     "output_type": "execute_result"
    }
   ],
   "source": [
    "selected = pd.DataFrame(X_train_new)\n",
    "selected.head()\n",
    "selected.columns = cols\n",
    "selected.head()"
   ]
  },
  {
   "cell_type": "code",
   "execution_count": 26,
   "id": "c4951900",
   "metadata": {},
   "outputs": [
    {
     "name": "stdout",
     "output_type": "stream",
     "text": [
      "0.5713980185997737\n",
      "0.5699313525127077\n"
     ]
    }
   ],
   "source": [
    "clf = RandomForestClassifier(max_depth=5, # max number of questions to ask\n",
    "                             min_samples_split=20, # amount of rows still considered at every question\n",
    "                             min_samples_leaf =20, # ultimate answer based on at least this many rows\n",
    "                             max_samples=0.8, # fraction of X-train to use in each tree\n",
    "                             random_state=42)\n",
    "clf.fit(X_train_new, y_train)\n",
    "print(clf.score(X_train_new, y_train))\n",
    "print(clf.score(X_test_new, y_test))"
   ]
  },
  {
   "cell_type": "markdown",
   "id": "fae6a14d",
   "metadata": {},
   "source": [
    "On first Glance it looks like the reduction of features decreased the quality of the model.\n",
    "- But the parameters of the random forest needs to be optimized after the reduction of features"
   ]
  },
  {
   "cell_type": "code",
   "execution_count": 31,
   "id": "2a9e2b2f",
   "metadata": {
    "scrolled": true
   },
   "outputs": [
    {
     "data": {
      "text/plain": [
       "0    18095\n",
       "1      988\n",
       "Name: TARGET_B, dtype: int64"
      ]
     },
     "metadata": {},
     "output_type": "display_data"
    },
    {
     "data": {
      "text/plain": [
       "array([[10385,  7710],\n",
       "       [  497,   491]])"
      ]
     },
     "metadata": {},
     "output_type": "display_data"
    }
   ],
   "source": [
    "from sklearn.metrics import confusion_matrix\n",
    "\n",
    "y_pred = clf.predict(X_test_new)\n",
    "display(y_test.value_counts())\n",
    "display(confusion_matrix(y_test, y_pred))"
   ]
  },
  {
   "cell_type": "code",
   "execution_count": 34,
   "id": "dc2e5bea",
   "metadata": {
    "scrolled": true
   },
   "outputs": [
    {
     "name": "stdout",
     "output_type": "stream",
     "text": [
      "cost of sending mail to non donors is 5242.8\n",
      "cost of missing donors is 7455\n"
     ]
    }
   ],
   "source": [
    "cost_FP = 7710*.68\n",
    "cost_FN = 497*15\n",
    "\n",
    "print(f'cost of sending mail to non donors is {cost_FP}')\n",
    "print(f'cost of missing donors is {cost_FN}')"
   ]
  },
  {
   "cell_type": "markdown",
   "id": "1ce39bd1",
   "metadata": {},
   "source": [
    "In this case the cost of missing donors is higher than sending mails to non donors\n",
    "- We could optimize the recall to decrease the number of missed donors\n",
    "- Also since the difference in value is not big between both we could optimize the F1 score to optimize both of them"
   ]
  },
  {
   "cell_type": "markdown",
   "id": "1689ad1f",
   "metadata": {},
   "source": [
    "### Use Random grid to optimize the parameters for random forest"
   ]
  },
  {
   "cell_type": "code",
   "execution_count": 29,
   "id": "7a1ef416",
   "metadata": {},
   "outputs": [],
   "source": [
    "from sklearn.model_selection import RandomizedSearchCV\n",
    "from sklearn.model_selection import GridSearchCV\n",
    "\n",
    "\n",
    "max_depth_choices= [3,4,5,6,7,8,9,10,None]\n",
    "min_samples_split_choices = [2,3,4,5,6,7,8,9,10]\n",
    "min_samples_leaf_choices = [2,3,4,5,6,7,8,9,10]\n",
    "max_samples_choices = [1, 0.9, 0.8, 0.7, 0.6]\n",
    "\n",
    "\n",
    "random_grid = {'max_depth': max_depth_choices,\n",
    "               'min_samples_split': min_samples_split_choices,\n",
    "               'min_samples_leaf': min_samples_leaf_choices,\n",
    "               'max_samples': max_samples_choices}"
   ]
  },
  {
   "cell_type": "markdown",
   "id": "1d014264",
   "metadata": {},
   "source": [
    "Random grid took forever I stopped it"
   ]
  },
  {
   "cell_type": "markdown",
   "id": "b2e5208b",
   "metadata": {},
   "source": [
    "%%time\n",
    "\n",
    "model = RandomForestClassifier()\n",
    "grid_search = GridSearchCV(estimator = model, param_grid = random_grid, cv = 5, n_jobs=-1, verbose=2)\n",
    "grid_search.fit(X_train_new, y_train)"
   ]
  },
  {
   "cell_type": "markdown",
   "id": "a0be1f19",
   "metadata": {},
   "source": [
    "### Optimize only the max_depth"
   ]
  },
  {
   "cell_type": "code",
   "execution_count": 38,
   "id": "08ebee45",
   "metadata": {},
   "outputs": [],
   "source": [
    "max_depth = range(1,20)\n",
    "test = []\n",
    "train = []\n",
    "\n",
    "for depth in max_depth:\n",
    "    model = RandomForestClassifier(max_depth=depth, random_state=0)\n",
    "    model.fit(X_train_new, y_train)\n",
    "    test.append(model.score(X_test_new,y_test))\n",
    "    train.append(model.score(X_train_new,y_train))"
   ]
  },
  {
   "cell_type": "code",
   "execution_count": 39,
   "id": "cc1092f8",
   "metadata": {
    "scrolled": true
   },
   "outputs": [
    {
     "data": {
      "text/plain": [
       "<matplotlib.legend.Legend at 0x12a1a1e10>"
      ]
     },
     "execution_count": 39,
     "metadata": {},
     "output_type": "execute_result"
    },
    {
     "data": {
      "image/png": "[encoded data removed]",
      "text/plain": [
       "<Figure size 640x480 with 1 Axes>"
      ]
     },
     "metadata": {},
     "output_type": "display_data"
    }
   ],
   "source": [
    "import matplotlib.pyplot as plt\n",
    "%matplotlib inline\n",
    "plt.plot( train, label=\"training accuracy\")\n",
    "plt.plot( test, label=\"test accuracy\")\n",
    "plt.ylabel(\"Accuracy\")\n",
    "plt.xlabel(\"n_depth-1\")\n",
    "plt.legend()"
   ]
  },
  {
   "cell_type": "markdown",
   "id": "2adf946a",
   "metadata": {},
   "source": [
    "Try 3 and 10 max depth"
   ]
  },
  {
   "cell_type": "markdown",
   "id": "fbe6a4e0",
   "metadata": {},
   "source": [
    "### Check the f1 score and try to optimize it"
   ]
  },
  {
   "cell_type": "code",
   "execution_count": null,
   "id": "3319da2a",
   "metadata": {},
   "outputs": [],
   "source": [
    "from sklearn.model_selection import cross_val_score\n",
    "clf = RandomForestClassifier(max_depth=10,\n",
    "                             min_samples_split=20,\n",
    "                             min_samples_leaf =20,\n",
    "                             max_samples=0.8\n",
    "                            )\n",
    "cross_val_scores = cross_val_score(clf, X_train, y_train, cv=10)\n",
    "print(np.mean(cross_val_scores))"
   ]
  },
  {
   "cell_type": "code",
   "execution_count": null,
   "id": "d52f0541",
   "metadata": {},
   "outputs": [],
   "source": [
    "cross_val_score(clf, X_train, y_train, cv=5, scoring='f1')"
   ]
  },
  {
   "cell_type": "code",
   "execution_count": null,
   "id": "78e88e5f",
   "metadata": {},
   "outputs": [],
   "source": [
    "np.mean([0.59070713, 0.59693593, 0.59355595, 0.58903872, 0.5895198 ])"
   ]
  },
  {
   "cell_type": "code",
   "execution_count": null,
   "id": "85598ce5",
   "metadata": {},
   "outputs": [],
   "source": []
  }
 ],
 "metadata": {
  "kernelspec": {
   "display_name": "Python 3 (ipykernel)",
   "language": "python",
   "name": "python3"
  },
  "language_info": {
   "codemirror_mode": {
    "name": "ipython",
    "version": 3
   },
   "file_extension": ".py",
   "mimetype": "text/x-python",
   "name": "python",
   "nbconvert_exporter": "python",
   "pygments_lexer": "ipython3",
   "version": "3.11.3"
  }
 },
 "nbformat": 4,
 "nbformat_minor": 5
}
